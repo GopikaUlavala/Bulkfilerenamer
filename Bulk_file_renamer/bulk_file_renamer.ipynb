{
 "cells": [
  {
   "cell_type": "code",
   "execution_count": 9,
   "id": "fe4d4fb9",
   "metadata": {},
   "outputs": [],
   "source": [
    "import os\n",
    "\n",
    "def renamer():\n",
    "    i = 0  # initiate /iterate over files lists\n",
    "    path = \"C:\\\\Users\\\\Administrator\\\\Desktop\\\\Untitled Folder\\\\img\\\\\"\n",
    "    for filename in os.listdir(path):\n",
    "        names = f\"pic{i}.jpg\"\n",
    "        src = path + filename\n",
    "        dest = path + names\n",
    "        \n",
    "        os.rename(src,dest)\n",
    "        i=i+1\n",
    "    \n",
    "if __name__ == \"__main__\":\n",
    "    renamer()"
   ]
  },
  {
   "cell_type": "code",
   "execution_count": null,
   "id": "8761fcba",
   "metadata": {},
   "outputs": [],
   "source": []
  }
 ],
 "metadata": {
  "kernelspec": {
   "display_name": "Python 3",
   "language": "python",
   "name": "python3"
  },
  "language_info": {
   "codemirror_mode": {
    "name": "ipython",
    "version": 3
   },
   "file_extension": ".py",
   "mimetype": "text/x-python",
   "name": "python",
   "nbconvert_exporter": "python",
   "pygments_lexer": "ipython3",
   "version": "3.8.8"
  }
 },
 "nbformat": 4,
 "nbformat_minor": 5
}
